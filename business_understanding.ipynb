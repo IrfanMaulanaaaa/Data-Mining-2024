{
  "nbformat": 4,
  "nbformat_minor": 0,
  "metadata": {
    "colab": {
      "provenance": [],
      "toc_visible": true,
      "authorship_tag": "ABX9TyNYD+ucO5GPl9dDmfa3n87S",
      "include_colab_link": true
    },
    "kernelspec": {
      "name": "python3",
      "display_name": "Python 3"
    },
    "language_info": {
      "name": "python"
    }
  },
  "cells": [
    {
      "cell_type": "markdown",
      "metadata": {
        "id": "view-in-github",
        "colab_type": "text"
      },
      "source": [
        "<a href=\"https://colab.research.google.com/github/IrfanMaulanaaaa/Data-Mining-2024/blob/main/business_understanding.ipynb\" target=\"_parent\"><img src=\"https://colab.research.google.com/assets/colab-badge.svg\" alt=\"Open In Colab\"/></a>"
      ]
    },
    {
      "cell_type": "markdown",
      "source": [
        "# Prediksi harga perumahan berdasarkan faktor - faktor yang mempengaruhi.\n",
        "# Business Objective\n",
        "Tujuan bisnis dari dataset harga perumahan ini adalah untuk memahami faktor - faktor yang mempengaruhi harga perumahan dan memprediksi harga perumahan di masa depan.\n",
        "\n",
        "# Assess Situation\n",
        "Sebuah perusahaan real estat atau agen pemasaran mungkin melakukan analisis harga perumahan untuk mengembangkan strategi pemasaran yang efektif. Mereka ingin memahami harga perumahan yang kompetitif di pasar tertentu\n",
        "# Data Mining Goals\n",
        "Tujuan data mining dari dataset ini adalah untuk mengidentifikasi faktor penting yang mempengaruhi harga perumahan, dan Membangun model untuk memprediksi harga perumahan di masa depan. Dan juga untuk memberikan pengetahuan kepada pembeli, atau penjual.\n",
        "\n",
        "# Project Plan\n",
        "Rencana awal dari proyek ini adalah pengumpulan data, data dikumpulkan dari sumber yang lengkap. Contohnya Kaggle. data yang dikumpulkan kemudian dikumpulkan untuk analisis. Fase kedua adalah Analisis Data. Analisis data dilakukan untuk memahami faktor yang mempengaruhi harga perumahan, Membangun model untuk memprediksi harga perumahan."
      ],
      "metadata": {
        "id": "pezImdCRSTCU"
      }
    }
  ]
}